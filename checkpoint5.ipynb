{
 "cells": [
  {
   "cell_type": "markdown",
   "id": "a3e1d889",
   "metadata": {},
   "source": [
    "# Q1"
   ]
  },
  {
   "cell_type": "code",
   "execution_count": 7,
   "id": "6a98eb5a",
   "metadata": {},
   "outputs": [
    {
     "name": "stdout",
     "output_type": "stream",
     "text": [
      "(1, 2, 3)\n"
     ]
    }
   ],
   "source": [
    "class Point3D:\n",
    "    def __init__(self, x, y, z):\n",
    "        self.x = x\n",
    "        self.y = y\n",
    "        self.z = z\n",
    "        \n",
    "    def retour(self):\n",
    "        return \"({}, {}, {})\".format(self.x, self.y, self.z)\n",
    "    \n",
    "my_point = Point3D(1, 2, 3)\n",
    "print(my_point.retour())"
   ]
  },
  {
   "cell_type": "markdown",
   "id": "ffbe9cb9",
   "metadata": {},
   "source": [
    "# Q2"
   ]
  },
  {
   "cell_type": "code",
   "execution_count": 11,
   "id": "48d8149b",
   "metadata": {},
   "outputs": [
    {
     "name": "stdout",
     "output_type": "stream",
     "text": [
      "12\n",
      "14\n"
     ]
    }
   ],
   "source": [
    "class Rectangle:\n",
    "    def __init__(self, length, width):\n",
    "        self.length = length\n",
    "        self.width = width\n",
    "        \n",
    "    def area(self):\n",
    "        return self.length*self.width\n",
    "    \n",
    "    def perimeter(self):\n",
    "        return 2*(self.length+self.width)\n",
    "    \n",
    "my_rectangle = Rectangle(4, 3)\n",
    "print(my_rectangle.area())\n",
    "print(my_rectangle.perimeter())"
   ]
  },
  {
   "cell_type": "markdown",
   "id": "2ea930d1",
   "metadata": {},
   "source": [
    "# Q3"
   ]
  },
  {
   "cell_type": "code",
   "execution_count": 17,
   "id": "b18d309d",
   "metadata": {},
   "outputs": [
    {
     "name": "stdout",
     "output_type": "stream",
     "text": [
      "113.09733552923255\n",
      "37.69911184307752\n",
      "Le point est dans le cercle.\n"
     ]
    }
   ],
   "source": [
    "import math\n",
    "class Circle:\n",
    "    def __init__(self, x_circle, y_circle, r):\n",
    "        self.x_circle = x_circle\n",
    "        self.y_circle = y_circle\n",
    "        self.r = r\n",
    "        \n",
    "    def area(self):\n",
    "        return math.pi*self.r**2\n",
    "    \n",
    "    def perimeter(self):\n",
    "        return 2*math.pi*self.r\n",
    "    \n",
    "    def isInside(self, x, y):\n",
    "        if (x-self.x_circle)**2 + (y-self.y_circle)**2 <= self.r**2:\n",
    "            return True\n",
    "        else:\n",
    "            return False\n",
    "        \n",
    "my_circle = Circle(2, 5, 6)\n",
    "print(my_circle.area())\n",
    "print(my_circle.perimeter())\n",
    "\n",
    "if my_circle.isInside(3, 8) == True:\n",
    "    print(\"Le point est dans le cercle.\")\n",
    "else:\n",
    "    print(\"Le point n'est pas dans le cercle.\")"
   ]
  },
  {
   "cell_type": "markdown",
   "id": "d5866734",
   "metadata": {},
   "source": [
    "# Q4"
   ]
  },
  {
   "cell_type": "code",
   "execution_count": 18,
   "id": "2f07de86",
   "metadata": {},
   "outputs": [
    {
     "name": "stdout",
     "output_type": "stream",
     "text": [
      "10300\n",
      "9600\n"
     ]
    }
   ],
   "source": [
    "class Bank:\n",
    "    def __init__(self, balance):\n",
    "        self.balance = balance\n",
    "    \n",
    "    def deposit(self, my_deposit):\n",
    "        return self.balance + my_deposit\n",
    "    \n",
    "    def withdraw(self, my_withdraw):\n",
    "        return self.balance - my_withdraw\n",
    "    \n",
    "my_bank = Bank(10000)\n",
    "print(my_bank.deposit(3000))\n",
    "print(my_bank.withdraw(4000))"
   ]
  },
  {
   "cell_type": "code",
   "execution_count": null,
   "id": "a08decff",
   "metadata": {},
   "outputs": [],
   "source": []
  }
 ],
 "metadata": {
  "kernelspec": {
   "display_name": "Python 3 (ipykernel)",
   "language": "python",
   "name": "python3"
  },
  "language_info": {
   "codemirror_mode": {
    "name": "ipython",
    "version": 3
   },
   "file_extension": ".py",
   "mimetype": "text/x-python",
   "name": "python",
   "nbconvert_exporter": "python",
   "pygments_lexer": "ipython3",
   "version": "3.9.12"
  }
 },
 "nbformat": 4,
 "nbformat_minor": 5
}
